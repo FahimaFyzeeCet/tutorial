{
 "cells": [
  {
   "cell_type": "code",
   "execution_count": null,
   "metadata": {},
   "outputs": [],
   "source": [
    "!pip install -U nussl\n",
    "!pip install -U scaper"
   ]
  },
  {
   "cell_type": "markdown",
   "metadata": {},
   "source": [
    "(data:scaper)=\n",
    "# Data generation with Scaper"
   ]
  },
  {
   "cell_type": "markdown",
   "metadata": {},
   "source": [
    "In this section we will learn how to generate training data for music source separation using the [Scaper python library](https://github.com/justinsalamon/scaper). Parts of this section are based on the [Scaper tutorial](https://scaper.readthedocs.io/en/latest/tutorial.html).\n",
    "\n"
   ]
  },
  {
   "cell_type": "markdown",
   "metadata": {},
   "source": [
    "## Why Scaper?\n",
    "\n",
    "Before we dive in, you might be wondering why we need a python library to mix stems at all - can't we just sum them in python? What about data loaders provided by deep learning frameworks - can't we just use those?\n",
    "\n",
    "While there are various ways to programatically generate mixes, we will see that Scaper is particularly well suited for this task, offering a number of benefits that make it seriously preferable to simple mixing via ad-hoc code:\n",
    "* **Scaper supports complex, programatic, and stochastic mixing pipelines** \n",
    "    * For example, it can sample mixing parameters (such as per-stem SNR) from a variety of distributions. This allows you to generate a potentially infinite number of unique mixtures from the same set of stems.\n",
    "* **Scaper supports data augmentation and normalization** \n",
    "    * Scaper supports data augmentation such as pitch shifting and time-stretching. It also supports easy-to-use options such as `fix_clipping` so that no matter how many stems you mix together or what SNR values you use, you can always be sure your audio does not distort.\n",
    "* **Scaper pipelines are highly reproducible**\n",
    "    * Scaper generates detailed annotation files - you can re-create an entire dataset of mixtures just from Scaper's annotations as long as you have access to the stems. The same can be achived by sharing your scaper code + stems as a \"recipe\": there's no need to transfer heavy sets of mixtures!\n",
    "* **Scaper is optimized for performance**\n",
    "    * Scaper can generate training data on the fly for GPU training without being a bottleneck. It's also good for batch generation, for example, on a machine with 8 CPUs, Scaper can generate 20,000 ten-second mixtures (mix + stems + annotations) in under 10 minutes.\n",
    "* **Scaper can generate data for other audio domains**\n",
    "    * Scaper can generate speech/noise mixtures for ASR, environmental soundscapes for sound event detection (SED) and classification (SEC), bioacoustic mixtures for species classification, etc. Once you know how to use Scaper for one domain, you know how to use it for all domains.\n",
    "* **Scaper is documented, tested, actively maintained and updated**\n",
    "    * Will your ad-hoc mixing code work a few years from now? Will you remember how to use it? Will someone else know how to use it? Does it cover all corner cases? Can it be easily extended to support new features? Ad-hoc mixing code might seem like a time saver in the short term, but it's bound to be a time sink in the long run.\n"
   ]
  },
  {
   "cell_type": "markdown",
   "metadata": {},
   "source": [
    "## Scaper overview\n",
    "\n",
    "Scaper can be viewed as a programatic audio mixer. At a high-level, the input to Scaper is:\n",
    "1. *source material*: audio recordings you want to mix together (\"soundbank\" in the diagram below).\n",
    "2. *event specification*: a \"recipe\" for how to mix the recordings.\n",
    "\n",
    "Scaper takes these and generates mixtures using the source material by following the event specification. Since the event specification can be stochastic (random), multiple different mixtures can be generated from the same source material and event specification. For each generated mixture Scaper outputs:\n",
    "1. The mixture audio signal (\"soundscape\" in the diagram).\n",
    "2. The mixture annotation in JAMS format (detailed) and in a simpligied tabular format (sparse).\n",
    "3. The audio of each processed stem (or sound event) used to create the mixture.\n",
    "\n",
    "<img src=\"https://www.justinsalamon.com/uploads/4/3/9/4/4394963/scaper-diagram_orig.png\">"
   ]
  },
  {
   "cell_type": "markdown",
   "metadata": {},
   "source": [
    "## Preparing the source material\n",
    "\n",
    "### Download MUSDB18 training clips\n",
    "\n",
    "We'll use the stems of the MUSDB18 dataset as our source material. Let's start by downloading the data, remember that for convenience we'll be using 7-second preview clips of the dataset rather than the full dataset.\n",
    "\n",
    "As we did earlier, let's download the train set data via `nussl`"
   ]
  },
  {
   "cell_type": "code",
   "execution_count": 2,
   "metadata": {},
   "outputs": [],
   "source": [
    "import nussl"
   ]
  },
  {
   "cell_type": "code",
   "execution_count": 3,
   "metadata": {},
   "outputs": [],
   "source": [
    "musdb_train = nussl.datasets.MUSDB18(download=True, subsets=['train'])"
   ]
  },
  {
   "cell_type": "code",
   "execution_count": 6,
   "metadata": {},
   "outputs": [
    {
     "data": {
      "text/plain": [
       "94"
      ]
     },
     "execution_count": 6,
     "metadata": {},
     "output_type": "execute_result"
    }
   ],
   "source": [
    "# Confirm we have downloaded 94 training clips\n",
    "len(musdb_train.items)"
   ]
  },
  {
   "cell_type": "markdown",
   "metadata": {},
   "source": [
    "### Prepare the source material for Scaper"
   ]
  },
  {
   "cell_type": "markdown",
   "metadata": {},
   "source": [
    "Scaper expects the source material to be grouped into two categories: foreground files and background files. When Scaper is used to generate soundscapes (e.g., for SED), this distinction is used to separate material for background tracks and for foreground sound events (for a detailed description see [this section of the Scaper tutorial](https://scaper.readthedocs.io/en/latest/tutorial.html#organize-your-audio-files-source-material)).\n",
    "\n",
    "Since we'll be using Scaper to generate music mixtures, however, we do not require this foreground/background distinction and so we will place all of our stems in the foreground folder. Scaper expects the following file structure:\n",
    "```\n",
    "foreground\n",
    "|--- drums\n",
    "     |--- stem1.wav\n",
    "|--- bass\n",
    "     |--- stem2.wav\n",
    "|--- vocals\n",
    "     |--- stem3.wav\n",
    "|--- other\n",
    "     |--- stem4.wav\n",
    "```\n",
    "\n",
    "That is, inside the `foreground` folder there should be a folder per label (stem type), and within each label folder we store the audio file for the corresponding stem. \n",
    "\n",
    "```{note}\n",
    "The actual name of the stem file does not matter as long as it's a WAV audio file.\n",
    "```\n",
    "\n",
    "```{note}\n",
    "In the example above we have one audio file per label (stem), since source separation datasets typically only include one recording per stem. However, Scaper supports multiple files per label, allowing us to e.g., randomly choose which audio file to use for each label. If we have multiple takes per instrument, we can use them to generate an even more varied set of mixes. We will not cover this case in this tutorial, but it is straight forward to extend the code in this tutorial to this use case.\n",
    "```\n",
    "\n",
    "```{note}\n",
    "```"
   ]
  },
  {
   "cell_type": "markdown",
   "metadata": {},
   "source": [
    "## Defining a Scaper object"
   ]
  },
  {
   "cell_type": "markdown",
   "metadata": {},
   "source": [
    "## Adding events (stems)"
   ]
  },
  {
   "cell_type": "markdown",
   "metadata": {},
   "source": [
    "## Generating data"
   ]
  },
  {
   "cell_type": "markdown",
   "metadata": {},
   "source": [
    "## Incoherent mixing"
   ]
  },
  {
   "cell_type": "markdown",
   "metadata": {},
   "source": [
    "## Coherent mixing"
   ]
  },
  {
   "cell_type": "markdown",
   "metadata": {},
   "source": [
    "## Putting it all together"
   ]
  },
  {
   "cell_type": "markdown",
   "metadata": {},
   "source": [
    "## Plugging Scaper into nussl"
   ]
  },
  {
   "cell_type": "code",
   "execution_count": null,
   "metadata": {},
   "outputs": [],
   "source": []
  }
 ],
 "metadata": {
  "kernelspec": {
   "display_name": "Python 3",
   "language": "python",
   "name": "python3"
  },
  "language_info": {
   "codemirror_mode": {
    "name": "ipython",
    "version": 3
   },
   "file_extension": ".py",
   "mimetype": "text/x-python",
   "name": "python",
   "nbconvert_exporter": "python",
   "pygments_lexer": "ipython3",
   "version": "3.7.9"
  }
 },
 "nbformat": 4,
 "nbformat_minor": 4
}
