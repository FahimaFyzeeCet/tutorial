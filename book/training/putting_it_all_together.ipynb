{
 "cells": [
  {
   "cell_type": "markdown",
   "metadata": {},
   "source": [
    "# Putting it all together\n",
    "\n",
    "The goal of this chapter is to provide a fully annotated and functional\n",
    "script for training a vocals separation model using `nussl` and `Scaper`, \n",
    "putting together everything that we've seen in this tutorial thus far. So that\n",
    "this part runs in reasonable time, we'll set up our model training code so that\n",
    "it overfits to a small amount of data, and then show the output of the model\n",
    "on that data. We'll also give instructions on how to scale your experiment code up\n",
    "so that it's a full MUSDB separation experiment.\n",
    "\n",
    "We'll have to introduce a few concepts in `nussl` that hasn't been covered yet that\n",
    "will make our lives easier. Alright, let's get started!"
   ]
  },
  {
   "cell_type": "markdown",
   "metadata": {},
   "source": [
    "## Transforms\n",
    "\n",
    "The first concept we'll want to be familiar with is that of data transforms. `nussl` provides\n",
    "a transforms API for audio, much like the one found in `torchvision` does for image data."
   ]
  }
 ],
 "metadata": {
  "kernelspec": {
   "display_name": "Python 3",
   "language": "python",
   "name": "python3"
  },
  "language_info": {
   "codemirror_mode": {
    "name": "ipython",
    "version": 3
   },
   "file_extension": ".py",
   "mimetype": "text/x-python",
   "name": "python",
   "nbconvert_exporter": "python",
   "pygments_lexer": "ipython3",
   "version": "3.8.5"
  }
 },
 "nbformat": 4,
 "nbformat_minor": 4
}
