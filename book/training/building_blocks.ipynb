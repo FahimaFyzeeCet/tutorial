{
 "cells": [
  {
   "cell_type": "markdown",
   "metadata": {},
   "source": [
    "# Building blocks of deep separation networks\n",
    "\n",
    "Most deep separation networks that have cropped up in\n",
    "recent years use and re-use many of the same components. While\n",
    "some papers introduce new types of layers, often there are still\n",
    "components that can be abstracted out and used across multiple\n",
    "network architectures. This structure has solidified in recent years, with\n",
    "at least two open source projects - Asteroid and nussl - recognizing this.\n",
    "\n",
    "This chapter is meant to acquaint you with the exact implementations of each\n",
    "of these building blocks, and eventually build them up to a few different,\n",
    "interesting, network architectures that are seen throughout the source\n",
    "separation literature."
   ]
  },
  {
   "cell_type": "markdown",
   "metadata": {},
   "source": [
    "## Deep mask inference\n",
    "\n",
    "Our story starts with one of the more established methods for deep audio\n",
    "source separation - *learning the mask*. Recall that the goal of many\n",
    "audio source separation algorithms before deep learning was to construct the optimal\n",
    "mask that when applied to the STFT (or other invertible time-frequency representation\n",
    "such as the CQT) of the mixture, produced an estimate of the isolated source - vocals,\n",
    "accompaniment, speaker one, speaker two, etc. When deep networks first came on the\n",
    "scene, one obvious thing to do was to create a deep network that would predict\n",
    "the masks directly.\n",
    "\n",
    "```{note}\n",
    "\n",
    "```"
   ]
  },
  {
   "cell_type": "code",
   "execution_count": null,
   "metadata": {},
   "outputs": [],
   "source": []
  }
 ],
 "metadata": {
  "kernelspec": {
   "display_name": "Python 3",
   "language": "python",
   "name": "python3"
  },
  "language_info": {
   "codemirror_mode": {
    "name": "ipython",
    "version": 3
   },
   "file_extension": ".py",
   "mimetype": "text/x-python",
   "name": "python",
   "nbconvert_exporter": "python",
   "pygments_lexer": "ipython3",
   "version": "3.8.5"
  }
 },
 "nbformat": 4,
 "nbformat_minor": 4
}
