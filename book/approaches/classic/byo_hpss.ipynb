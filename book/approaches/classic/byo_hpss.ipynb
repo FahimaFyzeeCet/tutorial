{
 "cells": [
  {
   "cell_type": "markdown",
   "metadata": {},
   "source": [
    "# Build Your Own HPSS\n",
    "\n",
    "In this section, we will demonstrate the basics of extending `nussl`.\n",
    "Later in the tutorial, we will see how the `nussl` API can help us\n",
    "build advanced neural network architectures. For now, we'll learn\n",
    "about the API and a new source separation algorithm:\n",
    "\n"
   ]
  },
  {
   "cell_type": "code",
   "execution_count": 10,
   "metadata": {},
   "outputs": [],
   "source": [
    "%%capture\n",
    "!pip install git+https://github.com/source-separation/tutorial"
   ]
  },
  {
   "cell_type": "code",
   "execution_count": 9,
   "metadata": {},
   "outputs": [
    {
     "ename": "ModuleNotFoundError",
     "evalue": "No module named 'pyloudnorm'",
     "output_type": "error",
     "traceback": [
      "\u001b[0;31m---------------------------------------------------------------------------\u001b[0m",
      "\u001b[0;31mModuleNotFoundError\u001b[0m                       Traceback (most recent call last)",
      "\u001b[0;32m<ipython-input-9-4992c03a7921>\u001b[0m in \u001b[0;36m<module>\u001b[0;34m\u001b[0m\n\u001b[1;32m      1\u001b[0m \u001b[0;31m# Do our imports\u001b[0m\u001b[0;34m\u001b[0m\u001b[0;34m\u001b[0m\u001b[0;34m\u001b[0m\u001b[0m\n\u001b[0;32m----> 2\u001b[0;31m \u001b[0;32mimport\u001b[0m \u001b[0mnussl\u001b[0m\u001b[0;34m\u001b[0m\u001b[0;34m\u001b[0m\u001b[0m\n\u001b[0m\u001b[1;32m      3\u001b[0m \u001b[0;32mimport\u001b[0m \u001b[0mmatplotlib\u001b[0m\u001b[0;34m.\u001b[0m\u001b[0mpyplot\u001b[0m \u001b[0;32mas\u001b[0m \u001b[0mplt\u001b[0m\u001b[0;34m\u001b[0m\u001b[0;34m\u001b[0m\u001b[0m\n\u001b[1;32m      4\u001b[0m \u001b[0;32mimport\u001b[0m \u001b[0mnumpy\u001b[0m \u001b[0;32mas\u001b[0m \u001b[0mnp\u001b[0m\u001b[0;34m\u001b[0m\u001b[0;34m\u001b[0m\u001b[0m\n\u001b[1;32m      5\u001b[0m \u001b[0;32mimport\u001b[0m \u001b[0mlibrosa\u001b[0m\u001b[0;34m\u001b[0m\u001b[0;34m\u001b[0m\u001b[0m\n",
      "\u001b[0;32m~/Documents/School/Research/nussl/nussl/nussl/__init__.py\u001b[0m in \u001b[0;36m<module>\u001b[0;34m\u001b[0m\n\u001b[1;32m     22\u001b[0m     \u001b[0mmusdb\u001b[0m \u001b[0;34m=\u001b[0m \u001b[0;32mNone\u001b[0m\u001b[0;34m\u001b[0m\u001b[0;34m\u001b[0m\u001b[0m\n\u001b[1;32m     23\u001b[0m \u001b[0;34m\u001b[0m\u001b[0m\n\u001b[0;32m---> 24\u001b[0;31m \u001b[0;32mfrom\u001b[0m \u001b[0;34m.\u001b[0m\u001b[0mcore\u001b[0m \u001b[0;32mimport\u001b[0m \u001b[0mAudioSignal\u001b[0m\u001b[0;34m,\u001b[0m \u001b[0mSTFTParams\u001b[0m\u001b[0;34m\u001b[0m\u001b[0;34m\u001b[0m\u001b[0m\n\u001b[0m\u001b[1;32m     25\u001b[0m \u001b[0;32mfrom\u001b[0m \u001b[0;34m.\u001b[0m\u001b[0mcore\u001b[0m \u001b[0;32mimport\u001b[0m \u001b[0mutils\u001b[0m\u001b[0;34m,\u001b[0m \u001b[0mefz_utils\u001b[0m\u001b[0;34m,\u001b[0m \u001b[0mplay_utils\u001b[0m\u001b[0;34m,\u001b[0m \u001b[0mconstants\u001b[0m\u001b[0;34m,\u001b[0m \u001b[0mmixing\u001b[0m\u001b[0;34m\u001b[0m\u001b[0;34m\u001b[0m\u001b[0m\n\u001b[1;32m     26\u001b[0m \u001b[0;34m\u001b[0m\u001b[0m\n",
      "\u001b[0;32m~/Documents/School/Research/nussl/nussl/nussl/core/__init__.py\u001b[0m in \u001b[0;36m<module>\u001b[0;34m\u001b[0m\n\u001b[1;32m     60\u001b[0m \"\"\"\n\u001b[1;32m     61\u001b[0m \u001b[0;34m\u001b[0m\u001b[0m\n\u001b[0;32m---> 62\u001b[0;31m \u001b[0;32mfrom\u001b[0m \u001b[0;34m.\u001b[0m\u001b[0maudio_signal\u001b[0m \u001b[0;32mimport\u001b[0m \u001b[0mAudioSignal\u001b[0m\u001b[0;34m,\u001b[0m \u001b[0mSTFTParams\u001b[0m\u001b[0;34m\u001b[0m\u001b[0;34m\u001b[0m\u001b[0m\n\u001b[0m\u001b[1;32m     63\u001b[0m \u001b[0;32mfrom\u001b[0m \u001b[0;34m.\u001b[0m \u001b[0;32mimport\u001b[0m \u001b[0mconstants\u001b[0m\u001b[0;34m\u001b[0m\u001b[0;34m\u001b[0m\u001b[0m\n\u001b[1;32m     64\u001b[0m \u001b[0;32mfrom\u001b[0m \u001b[0;34m.\u001b[0m \u001b[0;32mimport\u001b[0m \u001b[0mefz_utils\u001b[0m\u001b[0;34m\u001b[0m\u001b[0;34m\u001b[0m\u001b[0m\n",
      "\u001b[0;32m~/Documents/School/Research/nussl/nussl/nussl/core/audio_signal.py\u001b[0m in \u001b[0;36m<module>\u001b[0;34m\u001b[0m\n\u001b[1;32m     12\u001b[0m \u001b[0;32mfrom\u001b[0m \u001b[0mscipy\u001b[0m\u001b[0;34m.\u001b[0m\u001b[0msignal\u001b[0m \u001b[0;32mimport\u001b[0m \u001b[0mcheck_COLA\u001b[0m\u001b[0;34m\u001b[0m\u001b[0;34m\u001b[0m\u001b[0m\n\u001b[1;32m     13\u001b[0m \u001b[0;32mimport\u001b[0m \u001b[0msoundfile\u001b[0m \u001b[0;32mas\u001b[0m \u001b[0msf\u001b[0m\u001b[0;34m\u001b[0m\u001b[0;34m\u001b[0m\u001b[0m\n\u001b[0;32m---> 14\u001b[0;31m \u001b[0;32mimport\u001b[0m \u001b[0mpyloudnorm\u001b[0m\u001b[0;34m\u001b[0m\u001b[0;34m\u001b[0m\u001b[0m\n\u001b[0m\u001b[1;32m     15\u001b[0m \u001b[0;34m\u001b[0m\u001b[0m\n\u001b[1;32m     16\u001b[0m \u001b[0;32mfrom\u001b[0m \u001b[0;34m.\u001b[0m \u001b[0;32mimport\u001b[0m \u001b[0mconstants\u001b[0m\u001b[0;34m\u001b[0m\u001b[0;34m\u001b[0m\u001b[0m\n",
      "\u001b[0;31mModuleNotFoundError\u001b[0m: No module named 'pyloudnorm'"
     ]
    }
   ],
   "source": [
    "# Do our imports\n",
    "import nussl\n",
    "import matplotlib.pyplot as plt\n",
    "import numpy as np\n",
    "import librosa\n",
    "from common import viz"
   ]
  },
  {
   "cell_type": "markdown",
   "metadata": {},
   "source": [
    "## Harmonic-Percussive Source Separation (HPSS)\n",
    "\n",
    "If you spend enough time visualizing musical signals on a spectrogram, you start to notice that harmonic sounds look similar horizontal stripes on a spectrogram and percussive sounds look similar to vertical stripes. Let's have a look at the audio example from the previous notebook again:"
   ]
  },
  {
   "cell_type": "code",
   "execution_count": 3,
   "metadata": {},
   "outputs": [
    {
     "ename": "NameError",
     "evalue": "name 'nussl' is not defined",
     "output_type": "error",
     "traceback": [
      "\u001b[0;31m---------------------------------------------------------------------------\u001b[0m",
      "\u001b[0;31mNameError\u001b[0m                                 Traceback (most recent call last)",
      "\u001b[0;32m<ipython-input-3-acd59402ccc8>\u001b[0m in \u001b[0;36m<module>\u001b[0;34m\u001b[0m\n\u001b[0;32m----> 1\u001b[0;31m \u001b[0maudio_path\u001b[0m \u001b[0;34m=\u001b[0m \u001b[0mnussl\u001b[0m\u001b[0;34m.\u001b[0m\u001b[0mefz_utils\u001b[0m\u001b[0;34m.\u001b[0m\u001b[0mdownload_audio_file\u001b[0m\u001b[0;34m(\u001b[0m\u001b[0;34m'historyrepeating_7olLrex.wav'\u001b[0m\u001b[0;34m,\u001b[0m \u001b[0mverbose\u001b[0m\u001b[0;34m=\u001b[0m\u001b[0;32mFalse\u001b[0m\u001b[0;34m)\u001b[0m\u001b[0;34m\u001b[0m\u001b[0;34m\u001b[0m\u001b[0m\n\u001b[0m\u001b[1;32m      2\u001b[0m \u001b[0mhistory\u001b[0m \u001b[0;34m=\u001b[0m \u001b[0mnussl\u001b[0m\u001b[0;34m.\u001b[0m\u001b[0mAudioSignal\u001b[0m\u001b[0;34m(\u001b[0m\u001b[0maudio_path\u001b[0m\u001b[0;34m)\u001b[0m\u001b[0;34m\u001b[0m\u001b[0;34m\u001b[0m\u001b[0m\n\u001b[1;32m      3\u001b[0m \u001b[0mhistory\u001b[0m\u001b[0;34m.\u001b[0m\u001b[0membed_audio\u001b[0m\u001b[0;34m(\u001b[0m\u001b[0;34m)\u001b[0m\u001b[0;34m\u001b[0m\u001b[0;34m\u001b[0m\u001b[0m\n\u001b[1;32m      4\u001b[0m \u001b[0;34m\u001b[0m\u001b[0m\n\u001b[1;32m      5\u001b[0m \u001b[0mplt\u001b[0m\u001b[0;34m.\u001b[0m\u001b[0mfigure\u001b[0m\u001b[0;34m(\u001b[0m\u001b[0mfigsize\u001b[0m\u001b[0;34m=\u001b[0m\u001b[0;34m(\u001b[0m\u001b[0;36m10\u001b[0m\u001b[0;34m,\u001b[0m \u001b[0;36m3\u001b[0m\u001b[0;34m)\u001b[0m\u001b[0;34m)\u001b[0m\u001b[0;34m\u001b[0m\u001b[0;34m\u001b[0m\u001b[0m\n",
      "\u001b[0;31mNameError\u001b[0m: name 'nussl' is not defined"
     ]
    }
   ],
   "source": [
    "audio_path = nussl.efz_utils.download_audio_file('historyrepeating_7olLrex.wav', verbose=False)\n",
    "history = nussl.AudioSignal(audio_path)\n",
    "history.embed_audio()\n",
    "\n",
    "plt.figure(figsize=(10, 3))\n",
    "nussl.utils.visualize_spectrogram(history)\n",
    "plt.title(str(history))\n",
    "plt.tight_layout()\n",
    "plt.show()"
   ]
  },
  {
   "cell_type": "markdown",
   "metadata": {},
   "source": [
    "The insight of Harmonic-Percussive Source Separation (HPSS) is that we can apply median filter accross frequency bins (horizontal, or harmonic) and across time bins (vertical, or percussive) to separate sources.\n",
    "\n",
    "Let's build our own HPSS algorithm using `nussl`.\n",
    "\n",
    "\n",
    "## `nussl`'s Separation API\n",
    "\n",
    "`nussl` has a class-based API for adding new algorithms. All separation algorithms\n",
    "in `nussl` inherit from `SeparationBase`. `SeparationBase` has a child class called\n",
    "`MaskSeparationBase`, which takes care of applying a mask if we create one. Let's\n",
    "make our HPSS class inherit from `MaskSeparationBase`.\n",
    "\n",
    "\n",
    "Then there are only two methods we need to overwrite:\n",
    "\n",
    "  1. `__init__(self, audio_signal)` which accepts an `AudioSignal` and does\n",
    "     setup.\n",
    "  2. `run(self)` which runs our HPSS separation on `audio_signal` that we got in the init.\n",
    "     It returns a list of masks, each one as a `nussl.MaskBase()` object. We can turn a `numpy` array\n",
    "     into `MaskBase()` by calling `mask = self.mask_type(mask)` and `nussl` will \n",
    "     automatically set the mask type correctly.\n",
    "     \n",
    "The only other thing we'll need is the size of the median filter's kernel. We\n",
    "can set that as a parameter that the user can set in the init.\n"
   ]
  },
  {
   "cell_type": "code",
   "execution_count": 6,
   "metadata": {},
   "outputs": [
    {
     "ename": "NameError",
     "evalue": "name 'nussl' is not defined",
     "output_type": "error",
     "traceback": [
      "\u001b[0;31m---------------------------------------------------------------------------\u001b[0m",
      "\u001b[0;31mNameError\u001b[0m                                 Traceback (most recent call last)",
      "\u001b[0;32m<ipython-input-6-85b718ead284>\u001b[0m in \u001b[0;36m<module>\u001b[0;34m\u001b[0m\n\u001b[0;32m----> 1\u001b[0;31m \u001b[0;32mclass\u001b[0m \u001b[0mMyHPSS\u001b[0m\u001b[0;34m(\u001b[0m\u001b[0mnussl\u001b[0m\u001b[0;34m.\u001b[0m\u001b[0mMaskSeparationBase\u001b[0m\u001b[0;34m)\u001b[0m\u001b[0;34m:\u001b[0m\u001b[0;34m\u001b[0m\u001b[0;34m\u001b[0m\u001b[0m\n\u001b[0m\u001b[1;32m      2\u001b[0m \u001b[0;34m\u001b[0m\u001b[0m\n\u001b[1;32m      3\u001b[0m     def __init__(self, audio_signal, kernel_size=31, mask_type='soft',\n\u001b[1;32m      4\u001b[0m                  mask_threshold=0.5):\n\u001b[1;32m      5\u001b[0m         \u001b[0;34m\"\"\"Setup code goes here.\"\"\"\u001b[0m\u001b[0;34m\u001b[0m\u001b[0;34m\u001b[0m\u001b[0m\n",
      "\u001b[0;31mNameError\u001b[0m: name 'nussl' is not defined"
     ]
    }
   ],
   "source": [
    "class MyHPSS(nussl.MaskSeparationBase):\n",
    "    \n",
    "    def __init__(self, audio_signal, kernel_size=31, mask_type='soft',\n",
    "                 mask_threshold=0.5):\n",
    "        \"\"\"Setup code goes here.\"\"\"\n",
    "        \n",
    "        # The super class will save all of these attributes for us.\n",
    "        super().__init__(\n",
    "            input_audio_signal=audio_signal, \n",
    "            mask_type=mask_type,\n",
    "            mask_threshold=mask_threshold\n",
    "        )\n",
    "        \n",
    "        # Save the kernel size.\n",
    "        self.kernel_size = kernel_size\n",
    "        \n",
    "    def run(self):\n",
    "        \"\"\"Code for running HPSS. Returns masks.\"\"\"\n",
    "        \n",
    "        # Keep a list of each mask type.\n",
    "        harmonic_masks = []\n",
    "        percussive_masks = []\n",
    "\n",
    "        # Our signal might have more than one channel:\n",
    "        # Apply HPSS to each channel individually.\n",
    "        for ch in range(self.audio_signal.num_channels):\n",
    "            # apply mask\n",
    "            harmonic_mask, percussive_mask = librosa.decompose.hpss(\n",
    "                self.stft[:, :, ch], kernel_size=self.kernel_size, mask=True)\n",
    "            harmonic_masks.append(harmonic_mask)\n",
    "            percussive_masks.append(percussive_mask)\n",
    "\n",
    "        # Order the masks correctly.\n",
    "        harmonic_masks = np.stack(harmonic_masks, axis=-1)\n",
    "        percussive_masks = np.stack(percussive_masks, axis=-1)\n",
    "        _masks = np.stack([harmonic_masks, percussive_masks], axis=-1)\n",
    "        \n",
    "        # Convert the masks to `nussl.MaskBase` types.\n",
    "        self.result_masks = []\n",
    "        for i in range(_masks.shape[-1]):\n",
    "            mask_data = _masks[..., i]\n",
    "            if self.mask_type == self.MASKS['binary']:\n",
    "                mask_data = _masks[..., i] == np.max(_masks, axis=-1)\n",
    "            mask = self.mask_type(mask_data)\n",
    "            self.result_masks.append(mask)\n",
    "\n",
    "        # Return the masks>\n",
    "        return self.result_masks\n",
    "        "
   ]
  },
  {
   "cell_type": "markdown",
   "metadata": {},
   "source": [
    "Awesome! Now let's run our HPSS on the audio example above:"
   ]
  },
  {
   "cell_type": "code",
   "execution_count": 7,
   "metadata": {},
   "outputs": [
    {
     "ename": "NameError",
     "evalue": "name 'MyHPSS' is not defined",
     "output_type": "error",
     "traceback": [
      "\u001b[0;31m---------------------------------------------------------------------------\u001b[0m",
      "\u001b[0;31mNameError\u001b[0m                                 Traceback (most recent call last)",
      "\u001b[0;32m<ipython-input-7-b8c3a0cf5481>\u001b[0m in \u001b[0;36m<module>\u001b[0;34m\u001b[0m\n\u001b[0;32m----> 1\u001b[0;31m \u001b[0mmy_hpss\u001b[0m \u001b[0;34m=\u001b[0m \u001b[0mMyHPSS\u001b[0m\u001b[0;34m(\u001b[0m\u001b[0mhistory\u001b[0m\u001b[0;34m)\u001b[0m\u001b[0;34m\u001b[0m\u001b[0;34m\u001b[0m\u001b[0m\n\u001b[0m\u001b[1;32m      2\u001b[0m \u001b[0mhpss_estimates\u001b[0m \u001b[0;34m=\u001b[0m \u001b[0mmy_hpss\u001b[0m\u001b[0;34m(\u001b[0m\u001b[0;34m)\u001b[0m\u001b[0;34m\u001b[0m\u001b[0;34m\u001b[0m\u001b[0m\n\u001b[1;32m      3\u001b[0m \u001b[0;34m\u001b[0m\u001b[0m\n\u001b[1;32m      4\u001b[0m \u001b[0mviz\u001b[0m\u001b[0;34m.\u001b[0m\u001b[0mshow_sources\u001b[0m\u001b[0;34m(\u001b[0m\u001b[0mhpss_estimates\u001b[0m\u001b[0;34m)\u001b[0m\u001b[0;34m\u001b[0m\u001b[0;34m\u001b[0m\u001b[0m\n",
      "\u001b[0;31mNameError\u001b[0m: name 'MyHPSS' is not defined"
     ]
    }
   ],
   "source": [
    "my_hpss = MyHPSS(history)\n",
    "hpss_estimates = my_hpss()\n",
    "\n",
    "viz.show_sources(hpss_estimates)"
   ]
  },
  {
   "cell_type": "markdown",
   "metadata": {},
   "source": [
    "And, as always, we can make an interactive version of this. Try whistling and clapping\n",
    "at the same time and see how the results sound!"
   ]
  },
  {
   "cell_type": "code",
   "execution_count": 8,
   "metadata": {},
   "outputs": [
    {
     "ename": "NameError",
     "evalue": "name 'my_hpss' is not defined",
     "output_type": "error",
     "traceback": [
      "\u001b[0;31m---------------------------------------------------------------------------\u001b[0m",
      "\u001b[0;31mNameError\u001b[0m                                 Traceback (most recent call last)",
      "\u001b[0;32m<ipython-input-8-5ee405cfb5c1>\u001b[0m in \u001b[0;36m<module>\u001b[0;34m\u001b[0m\n\u001b[0;32m----> 1\u001b[0;31m \u001b[0mmy_hpss\u001b[0m\u001b[0;34m.\u001b[0m\u001b[0minteract\u001b[0m\u001b[0;34m(\u001b[0m\u001b[0;34m)\u001b[0m\u001b[0;34m\u001b[0m\u001b[0;34m\u001b[0m\u001b[0m\n\u001b[0m",
      "\u001b[0;31mNameError\u001b[0m: name 'my_hpss' is not defined"
     ]
    }
   ],
   "source": [
    "my_hpss.interact()"
   ]
  },
  {
   "cell_type": "markdown",
   "metadata": {},
   "source": [
    "That's it! The `nussl` API is quite simple; what goes on _inside_ of it is\n",
    "the hard part!\n",
    "\n",
    "Towards the end of this tutorial you will learn how to use the `nussl` API\n",
    "to train and run advanced neural networks for source separation."
   ]
  }
 ],
 "metadata": {
  "kernelspec": {
   "display_name": "Python (nussl)",
   "language": "python",
   "name": "nussl"
  },
  "language_info": {
   "codemirror_mode": {
    "name": "ipython",
    "version": 3
   },
   "file_extension": ".py",
   "mimetype": "text/x-python",
   "name": "python",
   "nbconvert_exporter": "python",
   "pygments_lexer": "ipython3",
   "version": "3.8.2"
  }
 },
 "nbformat": 4,
 "nbformat_minor": 4
}
