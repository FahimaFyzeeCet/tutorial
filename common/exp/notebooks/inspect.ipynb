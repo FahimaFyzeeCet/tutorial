{
 "cells": [
  {
   "cell_type": "code",
   "execution_count": null,
   "metadata": {},
   "outputs": [],
   "source": [
    "from common import utils, data, models, argbind, viz\n",
    "import nussl\n",
    "import torch\n",
    "import os\n",
    "from contextlib import contextmanager\n",
    "import matplotlib.pyplot as plt\n",
    "import numpy as np\n",
    "import gradio as gr\n",
    "\n",
    "argbind.ARGS['args.debug'] = True\n",
    "utils.logger(level='info')\n",
    "\n",
    "LABELS = ['bass', 'drums', 'other', 'vocals']\n",
    "\n",
    "@contextmanager\n",
    "def scope(output_folder, override_args={}):\n",
    "    with utils.chdir(output_folder):\n",
    "        args = argbind.load_args('./args.yml')\n",
    "        for key, val in override_args.items():\n",
    "            args[key] = val\n",
    "        with argbind.scope(args):\n",
    "            yield args"
   ]
  },
  {
   "cell_type": "code",
   "execution_count": null,
   "metadata": {},
   "outputs": [],
   "source": [
    "overrides = {\n",
    "    'device.use': 'cpu',\n",
    "    'deep_mask_estimation.model_path': 'checkpoints/latest.model.pth',\n",
    "}\n",
    "\n",
    "with scope('../../../output/musdb18/', overrides) as args:    \n",
    "    device = utils.device()\n",
    "    separator = models.deep_mask_estimation(device)\n",
    "    stft_params, sample_rate = data.signal()\n",
    "    \n",
    "    with argbind.scope(args, 'test'):\n",
    "        tfm, new_labels = data.transform(stft_params, sample_rate, 'vocals', True)\n",
    "        dataset = data.mixer(stft_params, tfm)\n",
    "        \n",
    "    item = dataset[np.random.randint(len(dataset))]\n",
    "\n",
    "    separator.audio_signal = item['mix']\n",
    "    estimates = separator()\n",
    "    estimates.append(item['mix'] - estimates[0])\n",
    "    \n",
    "    viz.embed(estimates)"
   ]
  },
  {
   "cell_type": "code",
   "execution_count": null,
   "metadata": {},
   "outputs": [],
   "source": [
    "with scope('../../../output/musdb18/') as args:    \n",
    "    device = utils.device()\n",
    "    separator = models.deep_mask_estimation(device)    \n",
    "    \n",
    "    def separate(audio):\n",
    "        sr, data = audio\n",
    "        mix = nussl.AudioSignal(audio_data_array=data, sample_rate=sr)\n",
    "        \n",
    "        separator.audio_signal = mix\n",
    "        estimates = separator()\n",
    "        estimates.append(mix - estimates[0])\n",
    "        \n",
    "        estimates = {f'Estimate {i}': s for i, s in enumerate(estimates)}\n",
    "        html = nussl.play_utils.multitrack(estimates, ext='.mp3', display=False)\n",
    "        return html\n",
    "\n",
    "    gr.Interface(\n",
    "        fn=separate, \n",
    "        inputs=\"audio\", \n",
    "        outputs=\"html\",\n",
    "    ).launch(share=True)"
   ]
  }
 ],
 "metadata": {
  "kernelspec": {
   "display_name": "Python 3",
   "language": "python",
   "name": "python3"
  },
  "language_info": {
   "codemirror_mode": {
    "name": "ipython",
    "version": 3
   },
   "file_extension": ".py",
   "mimetype": "text/x-python",
   "name": "python",
   "nbconvert_exporter": "python",
   "pygments_lexer": "ipython3",
   "version": "3.8.5"
  }
 },
 "nbformat": 4,
 "nbformat_minor": 4
}
