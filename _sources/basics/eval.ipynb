{
 "cells": [
  {
   "cell_type": "markdown",
   "metadata": {},
   "source": [
    "Evaluation\n",
    "==========\n",
    "\n",
    "\n",
    "<p align=\"center\">\n",
    "<iframe width=\"560\" height=\"315\" src=\"https://www.youtube.com/embed/FTQbiNvZqaY\" frameborder=\"0\" allow=\"accelerometer; autoplay; encrypted-media; gyroscope; picture-in-picture\" allowfullscreen></iframe>\n",
    "</p>\n",
    "\n",
    "```{dropdown} Video not working?\n",
    "Here is a <a href=\"\">OneDrive link</a> to the full video.\n",
    "<a href=\"\"></a>\n",
    "```\n",
    "\n",
    "Measuring the results of a source separation approach is a challenging problem.\n",
    "Generally, there are two main categories for evaluating the outputs of a source\n",
    "separation approach: objective and subjective. Objective measures rate\n",
    "separation quality by performing a set of calculations that compare the output \n",
    "signals of a separation system to the ground truth isolated sources. Subjective\n",
    "measures involve having human raters give scores for the source separation\n",
    "system's output.\n",
    "\n",
    "Objective and subjective measures both have benefits and drawbacks. Objective\n",
    "measures struggle because there are many aspects of human perception that are\n",
    "extremely difficult capture by computational means alone. However, compared to\n",
    "subjective measures, they are much faster and cheaper to obtain. On the other\n",
    "hand, subjective measures are expensive, time-consuming, and subject to\n",
    "variability of human raters, but they can be more reliable than objective\n",
    "measures because humans are involved in t\n",
    "\n",
    "\n",
    "Objective measures are, by far, much more popular than subjective measures, but\n",
    "we feel it is worth understanding them both to some extent.\n",
    " \n",
    "\n",
    "\n",
    "## Objective Measures\n",
    "\n",
    "\n",
    "### BSS-Eval & Friends\n",
    "\n",
    "For the past \n",
    "\n",
    "\n",
    "## Subjective Measures\n",
    "\n",
    "Having a human or set of humans evaluate a separation result is the gold standard\n",
    "for measuring the quality of a system. However, this is rarely done due to how\n",
    "difficult it is to get reliable evaluation data.\n",
    "\n",
    "Ultimately, if \n",
    "\n",
    "### something here"
   ]
  }
 ],
 "metadata": {
  "jupytext": {
   "formats": "md:myst",
   "text_representation": {
    "extension": ".md",
    "format_name": "myst"
   }
  },
  "kernelspec": {
   "display_name": "Python 3",
   "language": "python",
   "name": "python3"
  },
  "language_info": {
   "codemirror_mode": {
    "name": "ipython",
    "version": 3
   },
   "file_extension": ".py",
   "mimetype": "text/x-python",
   "name": "python",
   "nbconvert_exporter": "python",
   "pygments_lexer": "ipython3",
   "version": "3.7.9"
  },
  "source_map": [
   11
  ]
 },
 "nbformat": 4,
 "nbformat_minor": 4
}